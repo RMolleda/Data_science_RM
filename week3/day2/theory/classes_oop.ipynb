{
 "metadata": {
  "language_info": {
   "codemirror_mode": {
    "name": "ipython",
    "version": 3
   },
   "file_extension": ".py",
   "mimetype": "text/x-python",
   "name": "python",
   "nbconvert_exporter": "python",
   "pygments_lexer": "ipython3",
   "version": "3.9.0-final"
  },
  "orig_nbformat": 2,
  "kernelspec": {
   "name": "python3",
   "display_name": "Python 3.9.0 64-bit",
   "metadata": {
    "interpreter": {
     "hash": "c49414725a10925ce64f1a7c91399f6a4823416942062340df486dba231dfa6d"
    }
   }
  }
 },
 "nbformat": 4,
 "nbformat_minor": 2,
 "cells": [
  {
   "source": [
    "# Classes -- OOP\n",
    "\n",
    "La programación Orientada a objetos se define como un paradigma de la programación, una manera de programar específica, donde se organiza el código en unidades denominadas clases, de las cuales se crean objetos que se relacionan entre sí para conseguir los objetivos de las aplicaciones.\n",
    "\n",
    "La programación Orientada a objetos (POO) es una forma especial de programar, más cercana a como expresaríamos las cosas en la vida real que otros tipos de programación."
   ],
   "cell_type": "markdown",
   "metadata": {}
  },
  {
   "cell_type": "code",
   "execution_count": 3,
   "metadata": {},
   "outputs": [
    {
     "output_type": "stream",
     "name": "stdout",
     "text": [
      "2\nJuan\n"
     ]
    }
   ],
   "source": [
    "\n",
    "\"\"\"\n",
    "Creación de la clase 'Ser Humano'\n",
    "\"\"\"\n",
    "\n",
    "class Humano:\n",
    "    ojos = 2\n",
    "    piernas = 2\n",
    "    nombre = None\n",
    "    edad = None \n",
    "\n",
    "juan = Humano()\n",
    "print(juan.ojos)\n",
    "juan.nombre = \"Juan\"\n",
    "print(juan.nombre)"
   ]
  },
  {
   "cell_type": "code",
   "execution_count": 9,
   "metadata": {},
   "outputs": [
    {
     "output_type": "stream",
     "name": "stdout",
     "text": [
      "2\n"
     ]
    }
   ],
   "source": [
    "class Humano:\n",
    "\n",
    "    def __init__(self, o, n, b, p, e):\n",
    "\n",
    "        self.ojos = o\n",
    "        self.nombre = n\n",
    "        self.brazos = b\n",
    "        self.piernas = p\n",
    "        self.edad = e\n",
    "\n",
    "\n",
    "juan = Humano(o=2, n=\"Juan\", b=2, p=2, e=31)\n",
    "print(juan.ojos)"
   ]
  },
  {
   "cell_type": "code",
   "execution_count": 10,
   "metadata": {},
   "outputs": [
    {
     "output_type": "stream",
     "name": "stdout",
     "text": [
      "2\n3\n"
     ]
    }
   ],
   "source": [
    "class Humano:\n",
    "\n",
    "    def __init__(self, o, n, b, p, e):\n",
    "\n",
    "        self.ojos = o\n",
    "        self.nombre = n\n",
    "        self.brazos = b\n",
    "        self.piernas = p\n",
    "        self.edad = e\n",
    "\n",
    "\n",
    "juan = Humano(o=2, n=\"Juan\", b=2, p=2, e=31)\n",
    "print(juan.ojos)\n",
    "pepe = Humano(o=1, n=\"Pepe\", b=2, p=3, e=2)\n",
    "print(pepe.piernas)"
   ]
  },
  {
   "cell_type": "code",
   "execution_count": 11,
   "metadata": {},
   "outputs": [
    {
     "output_type": "execute_result",
     "data": {
      "text/plain": [
       "False"
      ]
     },
     "metadata": {},
     "execution_count": 11
    }
   ],
   "source": [
    "juan is pepe"
   ]
  },
  {
   "cell_type": "code",
   "execution_count": 12,
   "metadata": {},
   "outputs": [
    {
     "output_type": "execute_result",
     "data": {
      "text/plain": [
       "False"
      ]
     },
     "metadata": {},
     "execution_count": 12
    }
   ],
   "source": [
    "juan == pepe"
   ]
  },
  {
   "cell_type": "code",
   "execution_count": 14,
   "metadata": {},
   "outputs": [
    {
     "output_type": "execute_result",
     "data": {
      "text/plain": [
       "False"
      ]
     },
     "metadata": {},
     "execution_count": 14
    }
   ],
   "source": [
    "# Da igual que los argumentos dados a una variable dentro de la clase sean idénticos, pues son istancias distintas en todos los casos\n",
    "\n",
    "\n",
    "juan2 = Humano(o=2, n=\"Juan\", b=2, p=2, e=31)\n",
    "\n",
    "juan == juan2"
   ]
  },
  {
   "cell_type": "code",
   "execution_count": 24,
   "metadata": {},
   "outputs": [
    {
     "output_type": "stream",
     "name": "stdout",
     "text": [
      "10\n11\n"
     ]
    }
   ],
   "source": [
    "class Perro:\n",
    "\n",
    "    def __init__(self, patas, cola, raza, peso, edad, nombre):\n",
    "        self.patas = patas\n",
    "        self.cola = cola\n",
    "        self.raza = raza\n",
    "        self.peso = peso\n",
    "        self.edad = edad\n",
    "        self.nombre = nombre\n",
    "\n",
    "    def cumple_edad(self):\n",
    "        self.edad = self.edad + 1\n",
    "        print(\"Felicidades!\")\n",
    "\n",
    "        \n",
    "\n",
    "\n",
    "\n",
    "\n",
    "rudolf = Perro(patas=4, cola=True, raza=\"Pastor Alemán\", peso=25, edad=10, nombre=\"Rudolf\")\n",
    "\n",
    "print(rudolf.edad)\n",
    "rudolf.edad = rudolf.edad + 1\n",
    "print(rudolf.edad)\n",
    "\n",
    "baxter = Perro(patas=4, cola=True, raza=\"Labrador\", peso=12, edad=3, nombre=\"Baxter\")\n",
    "\n",
    "\n"
   ]
  },
  {
   "cell_type": "code",
   "execution_count": null,
   "metadata": {},
   "outputs": [],
   "source": [
    "class Perro:\n",
    "\n",
    "    def __init__(self, patas, cola, raza, peso, edad, nombre):\n",
    "        self.patas = patas\n",
    "        self.cola = cola\n",
    "        self.raza = raza\n",
    "        self.peso = peso\n",
    "        self.edad = edad\n",
    "        self.nombre = nombre\n",
    "\n",
    "    def cumple_edad(self):\n",
    "        self.edad = self.edad + 1\n",
    "        print(\"Felicidades!\")\n",
    "\n",
    "        \n",
    "\n",
    "\n",
    "\n"
   ]
  },
  {
   "cell_type": "code",
   "execution_count": 18,
   "metadata": {},
   "outputs": [
    {
     "output_type": "stream",
     "name": "stdout",
     "text": [
      "3\n"
     ]
    }
   ],
   "source": [
    "print(baxter.edad)"
   ]
  },
  {
   "cell_type": "code",
   "execution_count": 26,
   "metadata": {},
   "outputs": [
    {
     "output_type": "stream",
     "name": "stdout",
     "text": [
      "Felicidades!\n"
     ]
    }
   ],
   "source": [
    "baxter.cumple_edad()"
   ]
  },
  {
   "cell_type": "code",
   "execution_count": 27,
   "metadata": {},
   "outputs": [
    {
     "output_type": "stream",
     "name": "stdout",
     "text": [
      "4\n"
     ]
    }
   ],
   "source": [
    "print(baxter.edad)"
   ]
  },
  {
   "cell_type": "code",
   "execution_count": null,
   "metadata": {},
   "outputs": [],
   "source": []
  },
  {
   "cell_type": "code",
   "execution_count": null,
   "metadata": {},
   "outputs": [],
   "source": [
    "mc = Humano(o=2, m=\"Matthew MacConagheu\", b=2, p=2, e=51)\n"
   ]
  },
  {
   "cell_type": "code",
   "execution_count": 48,
   "metadata": {},
   "outputs": [],
   "source": [
    "class Pelota:\n",
    "    def __init__(self, velocidad=0, posicion=0, diametro=0):\n",
    "        self.vel = velocidad\n",
    "        self.pos = posicion\n",
    "        self.dia = diametro\n",
    "\n",
    "    def golpear(self, fuerza):\n",
    "        #para que esto funcione, guardar la velocidad inicial en una variable para no modificarla y poder usarla después\n",
    "\n",
    "        self.vel = self.vel + fuerza\n",
    "        self.pos = self.pos * self.vel\n",
    "        print(str(self.vel.__init__), \"---->\", self.vel)\n",
    "\n",
    "\n",
    "    def parar(self):\n",
    "        self.vel = 0\n",
    "\n",
    "    def rajar(self):\n",
    "        self.dia = self.dia * 0\n",
    "\n",
    "\n",
    "\n",
    "\n"
   ]
  },
  {
   "cell_type": "code",
   "execution_count": 49,
   "metadata": {},
   "outputs": [
    {
     "output_type": "stream",
     "name": "stdout",
     "text": [
      "<method-wrapper '__init__' of int object at 0x00000196975D6A10> ----> 8\n"
     ]
    }
   ],
   "source": [
    "pelota_tenis = Pelota(diametro=10)\n",
    "pelota_tenis.golpear(fuerza=8)\n"
   ]
  },
  {
   "cell_type": "code",
   "execution_count": 58,
   "metadata": {},
   "outputs": [],
   "source": [
    "class Humano:\n",
    "\n",
    "    def __init__(self, vida, fuerza, armadura, n_dientes, esta_vivo=True):\n",
    "        self.vida = vida\n",
    "        self.fuerza = fuerza\n",
    "        self.armadura = armadura\n",
    "        self.esta_vivo = esta_vivo\n",
    "        self.n_dientes = n_dientes\n",
    "\n",
    "\n",
    "class Troll:\n",
    "\n",
    "    def __init__(self, vida, fuerza, armadura, n_dientes, esta_vivo=True):\n",
    "        self.vida = vida\n",
    "        self.fuerza = fuerza\n",
    "        self.armadura = armadura\n",
    "        self.esta_vivo = esta_vivo\n",
    "        self.n_dientes = n_dientes\n",
    "\n",
    "\n",
    "\n"
   ]
  },
  {
   "cell_type": "code",
   "execution_count": 85,
   "metadata": {},
   "outputs": [],
   "source": [
    "humano = Humano(vida=100, fuerza=9, armadura=3, n_dientes=27)\n",
    "\n",
    "troll = Troll(vida=100, fuerza=8, armadura=1, n_dientes=42)\n",
    "\n"
   ]
  },
  {
   "cell_type": "code",
   "execution_count": 82,
   "metadata": {},
   "outputs": [],
   "source": [
    "class Humano:\n",
    "\n",
    "    def __init__(self, vida, fuerza, armadura, n_dientes, esta_vivo=True):\n",
    "        self.vida = vida\n",
    "        self.fuerza = fuerza\n",
    "        self.armadura = armadura\n",
    "        self.esta_vivo = esta_vivo\n",
    "        self.n_dientes = n_dientes\n",
    "\n",
    "    def atacar(self, troll):\n",
    "        vida_antigua = troll.vida\n",
    "        troll.vida = troll.vida - (self.fuerza - troll.armadura)\n",
    "        print(\"Vida Troll\", vida_antigua, \"--->\", humano.vida)\n",
    "        if troll.vida <= 0:\n",
    "            troll.esta_vivo = False\n",
    "            print(\"El Humano ha muerto, jodete puto horda\")\n",
    "\n",
    "    \n",
    "\n",
    "\n",
    "class Troll:\n",
    "\n",
    "    def __init__(self, vida, fuerza, armadura, n_dientes, esta_vivo=True):\n",
    "        self.vida = vida\n",
    "        self.fuerza = fuerza\n",
    "        self.armadura = armadura\n",
    "        self.esta_vivo = esta_vivo\n",
    "        self.n_dientes = n_dientes\n",
    "\n",
    "\n",
    "    def atacar(self, humano):\n",
    "        vida_antigua = humano.vida\n",
    "        humano.vida = humano.vida - (self.fuerza - humano.armadura)\n",
    "        print(\"Vida Humano\", vida_antigua, \"--->\", troll.vida)\n",
    "        if humano.vida <= 0:\n",
    "            humano.esta_vivo = False\n",
    "            print(\"El Humano ha muerto, jodete puto Ali\")\n"
   ]
  },
  {
   "cell_type": "code",
   "execution_count": 86,
   "metadata": {},
   "outputs": [],
   "source": [
    "humano = Humano(vida=100, fuerza=9, armadura=3, n_dientes=27)\n",
    "\n",
    "troll = Troll(vida=100, fuerza=8, armadura=1, n_dientes=42)\n"
   ]
  },
  {
   "cell_type": "code",
   "execution_count": 89,
   "metadata": {},
   "outputs": [
    {
     "output_type": "error",
     "ename": "SyntaxError",
     "evalue": "'break' outside loop (<ipython-input-89-caa14ebe518b>, line 44)",
     "traceback": [
      "\u001b[1;36m  File \u001b[1;32m\"<ipython-input-89-caa14ebe518b>\"\u001b[1;36m, line \u001b[1;32m44\u001b[0m\n\u001b[1;33m    break\u001b[0m\n\u001b[1;37m    ^\u001b[0m\n\u001b[1;31mSyntaxError\u001b[0m\u001b[1;31m:\u001b[0m 'break' outside loop\n"
     ]
    }
   ],
   "source": [
    "humano = Humano(vida=100, fuerza=9, armadura=3, n_dientes=27)\n",
    "\n",
    "troll = Troll(vida=100, fuerza=8, armadura=1, n_dientes=42)\n",
    "\n",
    "\n",
    "\n",
    "class Humano:\n",
    "\n",
    "    def __init__(self, vida, fuerza, armadura, n_dientes, esta_vivo=True):\n",
    "        self.vida = vida\n",
    "        self.fuerza = fuerza\n",
    "        self.armadura = armadura\n",
    "        self.esta_vivo = esta_vivo\n",
    "        self.n_dientes = n_dientes\n",
    "\n",
    "    def atacar(self, troll):\n",
    "        vida_antigua = troll.vida\n",
    "        troll.vida = troll.vida - (self.fuerza - troll.armadura)\n",
    "        print(\"Vida Troll\", vida_antigua, \"--->\", humano.vida)\n",
    "        if troll.vida <= 0:\n",
    "            troll.esta_vivo = False\n",
    "            print(\"El Humano ha muerto, jodete puto horda\")\n",
    "\n",
    "    \n",
    "\n",
    "\n",
    "class Troll:\n",
    "\n",
    "    def __init__(self, vida, fuerza, armadura, n_dientes, esta_vivo=True):\n",
    "        self.vida = vida\n",
    "        self.fuerza = fuerza\n",
    "        self.armadura = armadura\n",
    "        self.esta_vivo = esta_vivo\n",
    "        self.n_dientes = n_dientes\n",
    "\n",
    "\n",
    "    def atacar(self, humano):\n",
    "        vida_antigua = humano.vida\n",
    "        humano.vida = humano.vida - (self.fuerza - humano.armadura)\n",
    "        print(\"Vida Humano\", vida_antigua, \"--->\", troll.vida)\n",
    "        if humano.vida <= 0:\n",
    "            humano.esta_vivo = False\n",
    "            print(\"El Humano ha muerto, jodete puto Ali\")\n",
    "            \n",
    "\n",
    "\n",
    "import time\n",
    "def empezar_pelea(humano, troll):\n",
    "    while True:\n",
    "        humano.atacar(troll=troll)\n",
    "        time.sleep(0)\n",
    "        troll.atacar(humano=humano)\n",
    "        if humano.esta_vivo == False:\n",
    "            print(\"El Troll te ha ganado\")\n",
    "            break\n",
    "        elif troll.esta_vivo == False:\n",
    "            print(\"Has ganado, humano\")\n",
    "            break\n",
    "\n",
    "\n",
    "empezar_pelea(humano=humano, troll=troll)\n"
   ]
  },
  {
   "cell_type": "code",
   "execution_count": null,
   "metadata": {},
   "outputs": [],
   "source": []
  }
 ]
}