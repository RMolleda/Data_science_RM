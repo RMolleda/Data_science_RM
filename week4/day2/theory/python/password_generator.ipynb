{
 "metadata": {
  "language_info": {
   "codemirror_mode": {
    "name": "ipython",
    "version": 3
   },
   "file_extension": ".py",
   "mimetype": "text/x-python",
   "name": "python",
   "nbconvert_exporter": "python",
   "pygments_lexer": "ipython3",
   "version": "3.9.0-final"
  },
  "orig_nbformat": 2,
  "kernelspec": {
   "name": "python3",
   "display_name": "Python 3.9.0 64-bit",
   "metadata": {
    "interpreter": {
     "hash": "c49414725a10925ce64f1a7c91399f6a4823416942062340df486dba231dfa6d"
    }
   }
  }
 },
 "nbformat": 4,
 "nbformat_minor": 2,
 "cells": [
  {
   "source": [
    "Crea una función llamada \"generador\" con dos argumentos de entrada 'longitud' (entero) y 'dificultad' (entero). La función retornará una contraseña (string) de tamaño 'longitud' y con las siguientes características dependiendo del valor de 'dificultad':\n",
    "\n",
    "1. Si 'dificultad' tiene valor 1, entonces la contraseña solo contendrá números. \n",
    "2. Si 'dificultad' tiene valor 2, entonces la contraseña contendrá números y letras\n",
    "3. Si 'dificultad' tiene valor 3, entonces la contraseña contendrá números, letras y signos de puntuación (!,?¡:-.\"')\n",
    "4. Si 'dificultad' tiene valor 4, entonces la contraseña será como la del punto 3. pero con el doble de longitud y solo números pares. \n",
    "5. Para cualquier otro caso, la contraseña será \"numpy_y_pandas_son_lo_mejor\""
   ],
   "cell_type": "markdown",
   "metadata": {}
  },
  {
   "cell_type": "code",
   "execution_count": 33,
   "metadata": {},
   "outputs": [
    {
     "output_type": "execute_result",
     "data": {
      "text/plain": [
       "'Password: 994595'"
      ]
     },
     "metadata": {},
     "execution_count": 33
    }
   ],
   "source": [
    "# Primer intento, paso 1\n",
    "\"\"\"\n",
    "import random\n",
    "\n",
    "def generador(longitud, dificultad):\n",
    "    password = \"\"\n",
    "    if dificultad == 1:\n",
    "        for x in range(longitud):\n",
    "            password += str(random.randrange(10))\n",
    "\n",
    "        \n",
    "        \n",
    "\n",
    "\n",
    "    return f\"Password: \" + password\n",
    "\n",
    "\n",
    "generador(longitud=6, dificultad=1)\n",
    "\"\"\""
   ]
  },
  {
   "cell_type": "code",
   "execution_count": 48,
   "metadata": {},
   "outputs": [
    {
     "output_type": "execute_result",
     "data": {
      "text/plain": [
       "'Password: wamI4H'"
      ]
     },
     "metadata": {},
     "execution_count": 48
    }
   ],
   "source": [
    "# Segundo intento, paso 2\n",
    "\"\"\"\n",
    "import random\n",
    "import string\n",
    "def generador(longitud, dificultad):\n",
    "    password = \"\"\n",
    "    if dificultad == 1:\n",
    "        for x in range(longitud):\n",
    "            password += random.choice(string.digits)\n",
    "    if dificultad == 2:\n",
    "        for x in range(longitud):\n",
    "            password += random.choice(string.digits + string.ascii_letters)\n",
    "    if dificultad == 3:\n",
    "\n",
    "\n",
    "        \n",
    "        \n",
    "\n",
    "\n",
    "    return f\"Password: \" + password\n",
    "\n",
    "\n",
    "generador(longitud=6, dificultad=2)\n",
    "\"\"\""
   ]
  },
  {
   "cell_type": "code",
   "execution_count": 70,
   "metadata": {},
   "outputs": [
    {
     "output_type": "execute_result",
     "data": {
      "text/plain": [
       "'Password: #ju:2DeZDq[o<PHeZwkE'"
      ]
     },
     "metadata": {},
     "execution_count": 70
    }
   ],
   "source": [
    "# Intento final resuelto.\n",
    "\n",
    "import random\n",
    "import string\n",
    "def generador(longitud, dificultad):\n",
    "    password = \"\"\n",
    "    pares = \"02468\" #Pongo esta variable con los pares a sabiendas de que para otro tipo de situaciones no sería efectivo.\n",
    "    if dificultad == 1:\n",
    "        for x in range(longitud):\n",
    "            password += random.choice(string.digits)\n",
    "    if dificultad == 2:\n",
    "        for x in range(longitud):\n",
    "            password += random.choice(string.digits + string.ascii_letters)\n",
    "    if dificultad == 3:\n",
    "        for x in range(longitud):\n",
    "            password += random.choice(string.digits + string.ascii_letters + string.punctuation)\n",
    "    if dificultad == 4:\n",
    "        for x in range(longitud * 2):\n",
    "            password += random.choice(pares + string.ascii_letters + string.punctuation)\n",
    "            # Al no tener una funcion dentro de string.digits, he usado la variable creada.\n",
    "\n",
    "    else: \n",
    "        print(\"numpy_y_pandas_son_lo_mejor\")\n",
    "\n",
    "                \n",
    "\n",
    "        \n",
    "        \n",
    "\n",
    "\n",
    "    return f\"Password: \" + password\n",
    "\n",
    "\n",
    "generador(longitud=10, dificultad=4)"
   ]
  },
  {
   "cell_type": "code",
   "execution_count": null,
   "metadata": {},
   "outputs": [],
   "source": []
  }
 ]
}